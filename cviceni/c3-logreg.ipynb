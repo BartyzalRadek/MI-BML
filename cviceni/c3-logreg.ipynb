{
 "cells": [
  {
   "cell_type": "code",
   "execution_count": 2,
   "metadata": {},
   "outputs": [],
   "source": [
    "import numpy as np\n",
    "import matplotlib.pylab as plt\n",
    "from pandas_ml import ConfusionMatrix\n",
    "import sys\n",
    "sys.path.insert(0, '../zdrojaky/logreg')\n",
    "from logreg import LogReg"
   ]
  },
  {
   "cell_type": "markdown",
   "metadata": {},
   "source": [
    "# Logistická regrese\n",
    "\n",
    "Praktickou ukázkou použití logistické regrese (nebo libovolné jiné vhodné klasifikační metody) je určování, zda daný pixel získaný z fotografie obličeje patří ke kůži (Skin) či nikoliv (NonSkin). Pro testování algorimů se využívá databáze *Skin Segmentation Dataset* (Bhatt & Dhall) získaná náhodným vzorkováním RGB (Red-Green-Blue) hodnot pixelů z obličejů různých věkových skupin (young-middle-old) a rasových skupin (white-black-asian) z databází FERET a PAL. Dataset obsahuje celkem 245 057 řádků s hodnotami B, G, R a příslušností k třídě Skin (1) resp. NonSkin (2). Z toho je 194 198 vzorků NonSkin a 50 859 Skin. V tomto příkladu použijeme 1000 náhodně vybraných vzorků a sekvenčně je zkusíme oklasifikovat logistickou regresí.\n",
    "\n",
    "Tři náhodně vybrané datové řádky:\n",
    "\n",
    "    ---\n",
    "    B, G, R, Class\n",
    "    242, 169, 161,   2\n",
    "    218, 211, 202,   2\n",
    "    110, 150, 209,   1\n",
    "    ---\n",
    "    \n",
    "**Použijeme regresor ve tvaru $x_t = [1, B_t, G_t, R_t]$, normální apriorní distribuci $\\mathcal{N}$(**_0_**, 100**_I_**) a mez _m_=0.5.**"
   ]
  },
  {
   "cell_type": "markdown",
   "metadata": {},
   "source": [
    "Nejprve načteme data. Protože jsou uspořádána, náhodně je promícháme."
   ]
  },
  {
   "cell_type": "code",
   "execution_count": 3,
   "metadata": {},
   "outputs": [
    {
     "name": "stdout",
     "output_type": "stream",
     "text": [
      "[[242. 169. 161.   2.]\n",
      " [218. 211. 202.   2.]\n",
      " [110. 150. 209.   1.]]\n"
     ]
    }
   ],
   "source": [
    "np.random.seed(1234)\n",
    "ndat = 1000\n",
    "\n",
    "fn = 'Skin_NonSkin.txt'\n",
    "data = np.loadtxt(fn)\n",
    "np.random.shuffle(data)\n",
    "\n",
    "print(data[:3])"
   ]
  },
  {
   "cell_type": "code",
   "execution_count": 5,
   "metadata": {},
   "outputs": [
    {
     "data": {
      "text/plain": [
       "array([2., 2., 1.])"
      ]
     },
     "execution_count": 5,
     "metadata": {},
     "output_type": "execute_result"
    }
   ],
   "source": [
    "data[:,-1][:3]"
   ]
  },
  {
   "cell_type": "markdown",
   "metadata": {},
   "source": [
    "Všimněte si, že třídy jsou oklasifikovány jako 1 a 2 (Skin a NonSkin). \n",
    "\n",
    "\n",
    "**Úkol 1: Musíme tedy od posledního sloupce odečíst jedničku.**\n",
    "\n",
    "\n",
    "**Úkol 2: Rozdělte data na regresory (BGR) - proměnná `X` a třídy - proměnná `y`. Upravte regresor, aby odpovídal požadované podobě (sloupec jedniček).**"
   ]
  },
  {
   "cell_type": "code",
   "execution_count": 6,
   "metadata": {},
   "outputs": [],
   "source": [
    "X = np.ones(shape=data.shape)\n",
    "X[:,1:] = data[:,:-1]\n",
    "y = np.copy(data[:,-1]) - 1"
   ]
  },
  {
   "cell_type": "markdown",
   "metadata": {},
   "source": [
    "Nadefinujeme si apriorno jako $\\mathcal{N}([0, 0, 0, 0], 100I_{4\\times 4}).$"
   ]
  },
  {
   "cell_type": "code",
   "execution_count": 7,
   "metadata": {},
   "outputs": [],
   "source": [
    "#%% Prior\n",
    "mean = np.zeros(X.shape[-1])\n",
    "Sigma = np.eye(X.shape[-1]) * 100.\n",
    "prior = LogReg(mean=mean, Sigma=Sigma)"
   ]
  },
  {
   "cell_type": "markdown",
   "metadata": {},
   "source": [
    "Pustíme odhad - apriorno updatujeme vždy o jeden regresor a pozorovanou třídu (Skin-NonSkin)"
   ]
  },
  {
   "cell_type": "code",
   "execution_count": 8,
   "metadata": {},
   "outputs": [],
   "source": [
    "#%% Estimation\n",
    "for xt, yt in zip(X, y):\n",
    "    prior.update(yt, xt)\n",
    "    prior.log()\n",
    "    "
   ]
  },
  {
   "cell_type": "markdown",
   "metadata": {},
   "source": [
    "Vykreslíme si vývoj Brierova skore."
   ]
  },
  {
   "cell_type": "code",
   "execution_count": 11,
   "metadata": {},
   "outputs": [
    {
     "data": {
      "text/plain": [
       "Text(0,0.5,'Brier score')"
      ]
     },
     "execution_count": 11,
     "metadata": {},
     "output_type": "execute_result"
    },
    {
     "data": {
      "image/png": "[encoded data removed]",
      "text/plain": [
       "<Figure size 576x288 with 1 Axes>"
      ]
     },
     "metadata": {},
     "output_type": "display_data"
    }
   ],
   "source": [
    "plt.figure(figsize=(8, 4))\n",
    "plt.plot(prior.brier_score_log[:1000])\n",
    "plt.xlabel('t')\n",
    "plt.ylabel('Brier score')"
   ]
  },
  {
   "cell_type": "markdown",
   "metadata": {},
   "source": [
    "A spočteme matici záměn."
   ]
  },
  {
   "cell_type": "code",
   "execution_count": 10,
   "metadata": {},
   "outputs": [
    {
     "name": "stdout",
     "output_type": "stream",
     "text": [
      "population: 245057\n",
      "P: 194198\n",
      "N: 50859\n",
      "PositiveTest: 192242\n",
      "NegativeTest: 52815\n",
      "TP: 183243\n",
      "TN: 41860\n",
      "FP: 8999\n",
      "FN: 10955\n",
      "TPR: 0.943588502456256\n",
      "TNR: 0.8230598320847834\n",
      "PPV: 0.9531892094339426\n",
      "NPV: 0.7925778661365143\n",
      "FPR: 0.17694016791521658\n",
      "FDR: 0.046810790566057366\n",
      "FNR: 0.05641149754374401\n",
      "ACC: 0.9185740460382686\n",
      "F1_score: 0.9483645585343132\n",
      "MCC: 2.669239230005943\n",
      "informedness: 0.7666483345410393\n",
      "markedness: 0.7457670755704568\n",
      "prevalence: 0.7924605295910747\n",
      "LRP: 5.332811161953853\n",
      "LRN: 0.06853875665497555\n",
      "DOR: 77.80723523771013\n",
      "FOR: 0.20742213386348576\n"
     ]
    },
    {
     "name": "stderr",
     "output_type": "stream",
     "text": [
      "/home/users/b/bartyrad/bml/env-bml/lib/python3.6/site-packages/pandas_ml/confusion_matrix/bcm.py:304: RuntimeWarning: overflow encountered in long_scalars\n",
      "  (self.TN + self.FP) * (self.TN + self.FN)))\n"
     ]
    }
   ],
   "source": [
    "#%% Confusion matrix\n",
    "CM = ConfusionMatrix(prior.true_vals, prior.binary_preds)\n",
    "CM.print_stats()"
   ]
  },
  {
   "cell_type": "code",
   "execution_count": null,
   "metadata": {},
   "outputs": [],
   "source": []
  }
 ],
 "metadata": {
  "kernelspec": {
   "display_name": "Python 3",
   "language": "python",
   "name": "python3"
  },
  "language_info": {
   "codemirror_mode": {
    "name": "ipython",
    "version": 3
   },
   "file_extension": ".py",
   "mimetype": "text/x-python",
   "name": "python",
   "nbconvert_exporter": "python",
   "pygments_lexer": "ipython3",
   "version": "3.6.4"
  }
 },
 "nbformat": 4,
 "nbformat_minor": 2
}
